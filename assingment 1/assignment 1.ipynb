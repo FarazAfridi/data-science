{
 "cells": [
  {
   "cell_type": "code",
   "execution_count": 22,
   "id": "84933bed",
   "metadata": {},
   "outputs": [
    {
     "name": "stdout",
     "output_type": "stream",
     "text": [
      "3.9.7 (default, Sep 16 2021, 16:59:28) [MSC v.1916 64 bit (AMD64)]\n",
      "2021-12-31 01:06:06.059244\n"
     ]
    }
   ],
   "source": [
    "# 2 and 3\n",
    "import sys\n",
    "import datetime\n",
    "print(sys.version)\n",
    "print(datetime.datetime.now())"
   ]
  },
  {
   "cell_type": "code",
   "execution_count": 18,
   "id": "ffca7fed",
   "metadata": {},
   "outputs": [
    {
     "name": "stdout",
     "output_type": "stream",
     "text": [
      "Twinkle, twinkle ,little star, \n",
      "\t How i wonder what you are! \n",
      "\t\t Up above the world so high, \n",
      "\t\t Like a diamond in the sky. \n",
      "Twinkle, twinkle, little star,\n",
      "\t How I wonder what you are\n"
     ]
    }
   ],
   "source": [
    "# 1\n",
    "str = \"Twinkle, twinkle ,little star, \\n\\t How i wonder what you are! \\n\\t\\t Up above the world so high, \\n\\t\\t Like a diamond in the sky. \\nTwinkle, twinkle, little star,\\n\\t How I wonder what you are\"\n",
    "print(str)"
   ]
  },
  {
   "cell_type": "code",
   "execution_count": 25,
   "id": "b23be89a",
   "metadata": {},
   "outputs": [
    {
     "name": "stdout",
     "output_type": "stream",
     "text": [
      "Please enter radius of circle30\n",
      "2827.7999999999997\n"
     ]
    }
   ],
   "source": [
    "# 4\n",
    "radius = input(\"Please enter radius of circle\")\n",
    "area = 3.142 * (int(radius) * int(radius))\n",
    "print(area)\n"
   ]
  },
  {
   "cell_type": "code",
   "execution_count": 29,
   "id": "0e04f70f",
   "metadata": {},
   "outputs": [
    {
     "name": "stdout",
     "output_type": "stream",
     "text": [
      "enter first namefaraz\n",
      "enter last namekhan\n",
      "khan faraz\n"
     ]
    }
   ],
   "source": [
    "# 5\n",
    "firstname = input(\"enter first name\")\n",
    "lastname = input(\"enter last name\")\n",
    "print(lastname + \" \" + firstname)\n"
   ]
  },
  {
   "cell_type": "code",
   "execution_count": 31,
   "id": "4f62c918",
   "metadata": {},
   "outputs": [
    {
     "name": "stdout",
     "output_type": "stream",
     "text": [
      "enter number 17\n",
      "enter number 26\n",
      "13\n"
     ]
    }
   ],
   "source": [
    "# 6\n",
    "num1 = input(\"enter number 1\")\n",
    "num2 = input(\"enter number 2\")\n",
    "print(int(num1) + int(num2))"
   ]
  },
  {
   "cell_type": "code",
   "execution_count": null,
   "id": "529647b6",
   "metadata": {},
   "outputs": [],
   "source": []
  }
 ],
 "metadata": {
  "kernelspec": {
   "display_name": "Python 3 (ipykernel)",
   "language": "python",
   "name": "python3"
  },
  "language_info": {
   "codemirror_mode": {
    "name": "ipython",
    "version": 3
   },
   "file_extension": ".py",
   "mimetype": "text/x-python",
   "name": "python",
   "nbconvert_exporter": "python",
   "pygments_lexer": "ipython3",
   "version": "3.9.7"
  }
 },
 "nbformat": 4,
 "nbformat_minor": 5
}
